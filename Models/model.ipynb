{
 "cells": [
  {
   "cell_type": "markdown",
   "id": "0d29247c",
   "metadata": {},
   "source": [
    "## Importing the Libraries "
   ]
  },
  {
   "cell_type": "code",
   "execution_count": 1,
   "id": "0537ae94",
   "metadata": {},
   "outputs": [],
   "source": [
    "import tensorflow as tf\n",
    "from keras.preprocessing.image import ImageDataGenerator\n",
    "import os\n",
    "os.environ[\"CUDA_VISIBLE_DEVICES\"] = \"1\""
   ]
  },
  {
   "cell_type": "code",
   "execution_count": 2,
   "id": "1979d2cf",
   "metadata": {},
   "outputs": [
    {
     "data": {
      "text/plain": [
       "'2.7.0'"
      ]
     },
     "execution_count": 2,
     "metadata": {},
     "output_type": "execute_result"
    }
   ],
   "source": [
    "tf.__version__ "
   ]
  },
  {
   "cell_type": "markdown",
   "id": "ba892381",
   "metadata": {},
   "source": [
    "# Part 1 - Data Preprocessing"
   ]
  },
  {
   "cell_type": "markdown",
   "id": "0ad1e82f",
   "metadata": {},
   "source": [
    "## Generating images for the Training set"
   ]
  },
  {
   "cell_type": "code",
   "execution_count": 3,
   "id": "b09a2dec",
   "metadata": {},
   "outputs": [],
   "source": [
    "train_datagen = ImageDataGenerator(rescale = 1./255,\n",
    "                                   shear_range = 0.2,\n",
    "                                   zoom_range = 0.2,\n",
    "                                   horizontal_flip = True)"
   ]
  },
  {
   "cell_type": "markdown",
   "id": "8a0793ba",
   "metadata": {},
   "source": [
    "## Generating images for the Test set"
   ]
  },
  {
   "cell_type": "code",
   "execution_count": 4,
   "id": "480b349d",
   "metadata": {},
   "outputs": [],
   "source": [
    "test_datagen = ImageDataGenerator(rescale = 1./255)"
   ]
  },
  {
   "cell_type": "markdown",
   "id": "498d25fc",
   "metadata": {},
   "source": [
    "## Creating the Training set"
   ]
  },
  {
   "cell_type": "code",
   "execution_count": 6,
   "id": "2d2dbd15",
   "metadata": {},
   "outputs": [
    {
     "name": "stdout",
     "output_type": "stream",
     "text": [
      "Found 12845 images belonging to 27 classes.\n"
     ]
    }
   ],
   "source": [
    "training_set = train_datagen.flow_from_directory(r\"C:\\Users\\micro\\Documents\\Miniproject\\Dataset\\train\",                                 \n",
    "                                                 target_size = (128, 128),\n",
    "                                                 batch_size = 10,\n",
    "                                                 color_mode = 'grayscale',                                \n",
    "                                                 class_mode = 'categorical')"
   ]
  },
  {
   "cell_type": "code",
   "execution_count": 7,
   "id": "2f5082b1",
   "metadata": {},
   "outputs": [
    {
     "name": "stdout",
     "output_type": "stream",
     "text": [
      "Found 4268 images belonging to 27 classes.\n"
     ]
    }
   ],
   "source": [
    "test_set = test_datagen.flow_from_directory(r\"C:\\Users\\micro\\Documents\\Miniproject\\Dataset\\test\",\n",
    "                                            target_size = (128, 128),                                  \n",
    "                                            batch_size = 10,        \n",
    "                                            color_mode = 'grayscale',\n",
    "                                            class_mode = 'categorical')"
   ]
  },
  {
   "cell_type": "markdown",
   "id": "7025cffc",
   "metadata": {},
   "source": [
    "# Part 2 - Building the CNN"
   ]
  },
  {
   "cell_type": "markdown",
   "id": "2e94a3ea",
   "metadata": {},
   "source": [
    "## Initializing the CNN"
   ]
  },
  {
   "cell_type": "code",
   "execution_count": 8,
   "id": "1b82f902",
   "metadata": {},
   "outputs": [],
   "source": [
    "model = tf.keras.models.Sequential()"
   ]
  },
  {
   "cell_type": "markdown",
   "id": "40dcf315",
   "metadata": {},
   "source": [
    "## Step 1 - Convolution"
   ]
  },
  {
   "cell_type": "code",
   "execution_count": 9,
   "id": "8ed94f21",
   "metadata": {},
   "outputs": [],
   "source": [
    "model.add(tf.keras.layers.Conv2D(filters=32,\n",
    "                                     kernel_size=3, \n",
    "                                     padding=\"same\", \n",
    "                                     activation=\"relu\", \n",
    "                                     input_shape=[128, 128, 1]))"
   ]
  },
  {
   "cell_type": "markdown",
   "id": "c7bb99c0",
   "metadata": {},
   "source": [
    "## Step 2 - Pooling"
   ]
  },
  {
   "cell_type": "code",
   "execution_count": 10,
   "id": "58141ffa",
   "metadata": {},
   "outputs": [],
   "source": [
    "model.add(tf.keras.layers.MaxPool2D(pool_size=2, \n",
    "                                         strides=2, \n",
    "                                         padding='valid'))"
   ]
  },
  {
   "cell_type": "markdown",
   "id": "207eba3f",
   "metadata": {},
   "source": [
    "## Adding a second convolutional layer"
   ]
  },
  {
   "cell_type": "code",
   "execution_count": 11,
   "id": "032fc00e",
   "metadata": {},
   "outputs": [],
   "source": [
    "model.add(tf.keras.layers.Conv2D(filters=32, \n",
    "                                      kernel_size=3, \n",
    "                                      padding=\"same\", \n",
    "                                      activation=\"relu\"))\n",
    "\n",
    "model.add(tf.keras.layers.MaxPool2D(pool_size=2, \n",
    "                                         strides=2, \n",
    "                                         padding='valid'))"
   ]
  },
  {
   "cell_type": "markdown",
   "id": "dab67a8e",
   "metadata": {},
   "source": [
    "## Step 3 - Flattening"
   ]
  },
  {
   "cell_type": "code",
   "execution_count": 12,
   "id": "330f30ca",
   "metadata": {},
   "outputs": [],
   "source": [
    "model.add(tf.keras.layers.Flatten())"
   ]
  },
  {
   "cell_type": "markdown",
   "id": "77cc6232",
   "metadata": {},
   "source": [
    "## Step 4 - Full Connection"
   ]
  },
  {
   "cell_type": "code",
   "execution_count": 13,
   "id": "7df7e60b",
   "metadata": {},
   "outputs": [],
   "source": [
    "model.add(tf.keras.layers.Dense(units=128, \n",
    "                                     activation='relu'))\n",
    "model.add(tf.keras.layers.Dropout(0.40))\n",
    "model.add(tf.keras.layers.Dense(units=96, activation='relu'))\n",
    "model.add(tf.keras.layers.Dropout(0.40))\n",
    "model.add(tf.keras.layers.Dense(units=64, activation='relu'))\n",
    "model.add(tf.keras.layers.Dense(units=27, activation='softmax'))"
   ]
  },
  {
   "cell_type": "markdown",
   "id": "3238e505",
   "metadata": {},
   "source": [
    "# Part 3 - Training the CNN"
   ]
  },
  {
   "cell_type": "markdown",
   "id": "b9387a38",
   "metadata": {},
   "source": [
    "## Compiling the CNN"
   ]
  },
  {
   "cell_type": "code",
   "execution_count": 14,
   "id": "8c080efd",
   "metadata": {},
   "outputs": [],
   "source": [
    "model.compile(optimizer = 'adam', \n",
    "                   loss = 'categorical_crossentropy', \n",
    "                   metrics = ['accuracy'])"
   ]
  },
  {
   "cell_type": "markdown",
   "id": "09c96940",
   "metadata": {},
   "source": [
    "## Training the CNN on the Training set and evaluating it on the Test set"
   ]
  },
  {
   "cell_type": "code",
   "execution_count": 15,
   "id": "2b4e9b8c",
   "metadata": {},
   "outputs": [
    {
     "name": "stdout",
     "output_type": "stream",
     "text": [
      "Model: \"sequential\"\n",
      "_________________________________________________________________\n",
      " Layer (type)                Output Shape              Param #   \n",
      "=================================================================\n",
      " conv2d (Conv2D)             (None, 128, 128, 32)      320       \n",
      "                                                                 \n",
      " max_pooling2d (MaxPooling2D  (None, 64, 64, 32)       0         \n",
      " )                                                               \n",
      "                                                                 \n",
      " conv2d_1 (Conv2D)           (None, 64, 64, 32)        9248      \n",
      "                                                                 \n",
      " max_pooling2d_1 (MaxPooling  (None, 32, 32, 32)       0         \n",
      " 2D)                                                             \n",
      "                                                                 \n",
      " flatten (Flatten)           (None, 32768)             0         \n",
      "                                                                 \n",
      " dense (Dense)               (None, 128)               4194432   \n",
      "                                                                 \n",
      " dropout (Dropout)           (None, 128)               0         \n",
      "                                                                 \n",
      " dense_1 (Dense)             (None, 96)                12384     \n",
      "                                                                 \n",
      " dropout_1 (Dropout)         (None, 96)                0         \n",
      "                                                                 \n",
      " dense_2 (Dense)             (None, 64)                6208      \n",
      "                                                                 \n",
      " dense_3 (Dense)             (None, 27)                1755      \n",
      "                                                                 \n",
      "=================================================================\n",
      "Total params: 4,224,347\n",
      "Trainable params: 4,224,347\n",
      "Non-trainable params: 0\n",
      "_________________________________________________________________\n"
     ]
    }
   ],
   "source": [
    "model.summary()"
   ]
  },
  {
   "cell_type": "code",
   "execution_count": 20,
   "id": "000bba92",
   "metadata": {},
   "outputs": [
    {
     "name": "stdout",
     "output_type": "stream",
     "text": [
      "Epoch 1/5\n",
      "1285/1285 [==============================] - 298s 232ms/step - loss: 0.1350 - accuracy: 0.9583 - val_loss: 0.0022 - val_accuracy: 0.9993\n",
      "Epoch 2/5\n",
      "1285/1285 [==============================] - 319s 248ms/step - loss: 0.1312 - accuracy: 0.9594 - val_loss: 0.0042 - val_accuracy: 0.9988\n",
      "Epoch 3/5\n",
      "1285/1285 [==============================] - 279s 217ms/step - loss: 0.1259 - accuracy: 0.9603 - val_loss: 0.0134 - val_accuracy: 0.9958\n",
      "Epoch 4/5\n",
      "1285/1285 [==============================] - 309s 241ms/step - loss: 0.1170 - accuracy: 0.9616 - val_loss: 0.0065 - val_accuracy: 0.9977\n",
      "Epoch 5/5\n",
      "1285/1285 [==============================] - 306s 238ms/step - loss: 0.1134 - accuracy: 0.9661 - val_loss: 0.0082 - val_accuracy: 0.9979\n"
     ]
    },
    {
     "data": {
      "text/plain": [
       "<keras.callbacks.History at 0x2042648ecc8>"
      ]
     },
     "execution_count": 20,
     "metadata": {},
     "output_type": "execute_result"
    }
   ],
   "source": [
    "model.fit(training_set,\n",
    "                  epochs = 5,\n",
    "                  validation_data = test_set)"
   ]
  },
  {
   "cell_type": "markdown",
   "id": "4ec63810",
   "metadata": {},
   "source": [
    "## Saving the Model"
   ]
  },
  {
   "cell_type": "code",
   "execution_count": 17,
   "id": "850897e1",
   "metadata": {},
   "outputs": [
    {
     "ename": "NameError",
     "evalue": "name 'classifier' is not defined",
     "output_type": "error",
     "traceback": [
      "\u001b[1;31m---------------------------------------------------------------------------\u001b[0m",
      "\u001b[1;31mNameError\u001b[0m                                 Traceback (most recent call last)",
      "\u001b[1;32m~\\AppData\\Local\\Temp\\ipykernel_1484\\2690647506.py\u001b[0m in \u001b[0;36m<module>\u001b[1;34m\u001b[0m\n\u001b[1;32m----> 1\u001b[1;33m \u001b[0mmodel_json\u001b[0m \u001b[1;33m=\u001b[0m \u001b[0mclassifier\u001b[0m\u001b[1;33m.\u001b[0m\u001b[0mto_json\u001b[0m\u001b[1;33m(\u001b[0m\u001b[1;33m)\u001b[0m\u001b[1;33m\u001b[0m\u001b[1;33m\u001b[0m\u001b[0m\n\u001b[0m\u001b[0;32m      2\u001b[0m \u001b[1;32mwith\u001b[0m \u001b[0mopen\u001b[0m\u001b[1;33m(\u001b[0m\u001b[1;34m\"model_new.json\"\u001b[0m\u001b[1;33m,\u001b[0m \u001b[1;34m\"w\"\u001b[0m\u001b[1;33m)\u001b[0m \u001b[1;32mas\u001b[0m \u001b[0mjson_file\u001b[0m\u001b[1;33m:\u001b[0m\u001b[1;33m\u001b[0m\u001b[1;33m\u001b[0m\u001b[0m\n\u001b[0;32m      3\u001b[0m     \u001b[0mjson_file\u001b[0m\u001b[1;33m.\u001b[0m\u001b[0mwrite\u001b[0m\u001b[1;33m(\u001b[0m\u001b[0mmodel_json\u001b[0m\u001b[1;33m)\u001b[0m\u001b[1;33m\u001b[0m\u001b[1;33m\u001b[0m\u001b[0m\n\u001b[0;32m      4\u001b[0m \u001b[0mprint\u001b[0m\u001b[1;33m(\u001b[0m\u001b[1;34m'Model Saved'\u001b[0m\u001b[1;33m)\u001b[0m\u001b[1;33m\u001b[0m\u001b[1;33m\u001b[0m\u001b[0m\n\u001b[0;32m      5\u001b[0m \u001b[0mclassifier\u001b[0m\u001b[1;33m.\u001b[0m\u001b[0msave_weights\u001b[0m\u001b[1;33m(\u001b[0m\u001b[1;34m'model_new.h5'\u001b[0m\u001b[1;33m)\u001b[0m\u001b[1;33m\u001b[0m\u001b[1;33m\u001b[0m\u001b[0m\n",
      "\u001b[1;31mNameError\u001b[0m: name 'classifier' is not defined"
     ]
    }
   ],
   "source": [
    "model_json = model.to_json()\n",
    "with open(\"model_new.json\", \"w\") as json_file:\n",
    "    json_file.write(model_json)\n",
    "print('Model Saved')\n",
    "model.save_weights('model_new.h5')\n",
    "print('Weights saved')"
   ]
  }
 ],
 "metadata": {
  "kernelspec": {
   "display_name": "Python 3 (ipykernel)",
   "language": "python",
   "name": "python3"
  },
  "language_info": {
   "codemirror_mode": {
    "name": "ipython",
    "version": 3
   },
   "file_extension": ".py",
   "mimetype": "text/x-python",
   "name": "python",
   "nbconvert_exporter": "python",
   "pygments_lexer": "ipython3",
   "version": "3.9.7"
  }
 },
 "nbformat": 4,
 "nbformat_minor": 5
}
